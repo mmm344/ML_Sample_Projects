{
 "cells": [
  {
   "cell_type": "markdown",
   "id": "fa44cf0a",
   "metadata": {},
   "source": [
    "From https://medium.com/opex-analytics/optimization-modeling-in-python-pulp-gurobi-and-cplex-83a62129807a:\n",
    "\n",
    "We seek to solve the following for $x_{ij}$:\n",
    "\\begin{align*}\n",
    "&\\min\\left\\{\\sum_{i\\in I}\\sum_{j\\in J}c_{ij}x_{ij}\\right\\},\\\\\n",
    "&\\sum_{i\\in I}a_{ij}x_{ij}\\leq b_j \\ \\ (\\textrm{Constraint})\\\\\n",
    "&l_{ij}\\leq x_{ij}\\leq u_{ij}\n",
    "\\end{align*}\n",
    "for all $i,j$.\n",
    "\n",
    "Another good reference is the article written here: \n",
    "\n",
    "https://pythonpool.com/cplex-python/"
   ]
  },
  {
   "cell_type": "code",
   "execution_count": 4,
   "id": "08b47bfb",
   "metadata": {},
   "outputs": [],
   "source": [
    "#import libraries\n",
    "import random\n",
    "import gurobipy as grb\n",
    "import docplex.mp.model as  cpx\n",
    "import pulp as plp\n",
    "import operator as op\n",
    "import pandas as pd\n",
    "from cplex import *\n",
    "from docplex import *"
   ]
  },
  {
   "cell_type": "code",
   "execution_count": 5,
   "id": "bb7b48f9",
   "metadata": {},
   "outputs": [],
   "source": [
    "#changeable parameter values to fit the problem\n",
    "n=2\n",
    "m=1\n",
    "c_start = 0\n",
    "c_end =100\n",
    "a_start = 0\n",
    "a_end = 1\n",
    "l_start = 0\n",
    "l_end = 100\n",
    "u_start = 100\n",
    "u_end = 150\n",
    "b_start = 0\n",
    "b_end = 100\n",
    "x_vars_type = \"Continuous\" #The x variable will be continuous (\"Continuous\"), binary (\"Binary\"), or integer valued (\"Integer\").\n",
    "opt_model_type = \"CPX\"\n",
    "name_format = \"x_{0}_{1}\" #decision variables\n",
    "constraint_name = \"constraint_{0}\"\n",
    "constraint_type = \"leq\" #values will be leq, req, eq\n",
    "objective_type = \"min\" #values will be max or min"
   ]
  },
  {
   "cell_type": "code",
   "execution_count": 6,
   "id": "71e3e48e",
   "metadata": {},
   "outputs": [],
   "source": [
    "set_I = range(1,n+1)\n",
    "set_J = range(1,m+1)\n",
    "c_range = random.normalvariate(c_start,c_end)/100\n",
    "a_range =random.normalvariate(a_start,a_end)/100\n",
    "l_range = random.randint(l_start,l_end)/100\n",
    "u_range = random.randint(u_start,u_end)/100\n",
    "b_range = random.randint(b_start,b_end)/100\n",
    "# we assume variabels c, a, l, u, and b are given to us as a part of the modeling process\n",
    "c = {(i,j): random.normalvariate(c_start,c_end) for i in set_I for j in set_J}\n",
    "a = {(i,j): random.normalvariate(a_start,a_end)/100 for i in set_I for j in set_J}\n",
    "lower_bound = {(i,j): random.randint(l_start,l_end)/100 for i in set_I for j in set_J}\n",
    "upper_bound = {(i,j): random.randint(u_start,u_end)/100 for i in set_I for j in set_J}\n",
    "b = {j: random.randint(b_start,b_end)/100 for j in set_J}"
   ]
  },
  {
   "cell_type": "code",
   "execution_count": 8,
   "id": "6f9bea27",
   "metadata": {},
   "outputs": [
    {
     "data": {
      "text/plain": [
       "{(1, 1): 78.54528785547316, (2, 1): -129.9591692832855}"
      ]
     },
     "execution_count": 8,
     "metadata": {},
     "output_type": "execute_result"
    }
   ],
   "source": [
    "c"
   ]
  },
  {
   "cell_type": "markdown",
   "id": "cd078e74",
   "metadata": {},
   "source": [
    "### Set the opt_model_type and v_type"
   ]
  },
  {
   "cell_type": "code",
   "execution_count": 5,
   "id": "79431482",
   "metadata": {},
   "outputs": [],
   "source": [
    "if x_vars_type == \"Continuous\":\n",
    "    if opt_model_type == \"GRB\":\n",
    "        opt_model = grb.Model(name=\"MIP Model\")\n",
    "        var_type = grb.GRB.CONTINUOUS\n",
    "    elif opt_model_type == \"CPX\":\n",
    "        opt_model = cpx.Model(name=\"MIP Model\")\n",
    "        var_type = opt_model.continuous_var\n",
    "    elif opt_model_type == \"PLP\":\n",
    "        opt_model = plp.LpProblem(name=\"MIP Model\")\n",
    "        var_type = plp.LpContinuous\n",
    "    else:\n",
    "        print('Incorrect opt_model_type. Must be grb, cpx, or plp.')\n",
    "elif x_vars_type == \"Binary\":\n",
    "    if opt_model_type == \"GRB\":\n",
    "        opt_model = grb.Model(name=\"MIP Model\")\n",
    "        var_type = grb.GRB.BINARY\n",
    "    elif opt_model_type == \"CPX\":\n",
    "        opt_model = cpx.Model(name=\"MIP Model\")\n",
    "        var_type = opt_model.binary_var\n",
    "    elif opt_model_type == \"PLP\":\n",
    "        opt_model = plp.LpProblem(name=\"MIP Model\")\n",
    "        var_type = plp.LpBinary\n",
    "    else:\n",
    "        print('Incorrect opt_model_type. Must be grb, cpx, or plp.') \n",
    "elif x_vars_type == \"Integer\":\n",
    "    if opt_model_type == \"GRB\":\n",
    "        opt_model = grb.Model(name=\"MIP Model\")\n",
    "        var_type = grb.GRB.INTEGER\n",
    "    elif opt_model_type == \"CPX\":\n",
    "        opt_model = cpx.Model(name=\"MIP Model\")\n",
    "        var_type = opt_model.integer_var\n",
    "    elif opt_model_type == \"PLP\":\n",
    "        opt_model = plp.LpProblem(name=\"MIP Model\")\n",
    "        var_type = plp.LpInteger\n",
    "    else:\n",
    "        print('Incorrect opt_model_type. Must be grb, cpx, or plp.')\n",
    "else:\n",
    "    print('Incorrect x_vars_type')"
   ]
  },
  {
   "cell_type": "markdown",
   "id": "48ad4ffd",
   "metadata": {},
   "source": [
    "### Setup contraints parameters and summations"
   ]
  },
  {
   "cell_type": "code",
   "execution_count": 6,
   "id": "04bc932b",
   "metadata": {},
   "outputs": [],
   "source": [
    "if opt_model_type == \"GRB\":\n",
    "    constraint_var = opt_model.addLConstr\n",
    "    sum_var = grb.quicksum\n",
    "    if constraint_type == \"leq\":\n",
    "        sense_var = grb.GRB.LESS_EQUAL\n",
    "    elif constraint_type == 'geq':\n",
    "        sense_var = grb.GRB.GREATER_EQUAL\n",
    "    elif constraint_type == 'eq':\n",
    "        sense_var = grb.GRB.EQUAL\n",
    "    else:\n",
    "        print('Check constraint_type')\n",
    "elif opt_model_type == \"CPX\":\n",
    "    constraint_var = opt_model.add_constraint\n",
    "    sum_var = opt_model.sum\n",
    "    if constraint_type == \"leq\":\n",
    "        sense_var = op.le\n",
    "    elif constraint_type == 'geq':\n",
    "        sense_var = op.ge\n",
    "    elif constraint_type == 'eq':\n",
    "        sense_var = op.eq\n",
    "    else:\n",
    "        print('Check constraint_type')\n",
    "elif opt_model_type == \"PLP\":\n",
    "    constraint_var = opt_model.addConstraint\n",
    "    sum_var = plp.lpSum\n",
    "    if constraint_type == \"leq\":\n",
    "        sense_var = plp.LpConstraintLE\n",
    "    elif constraint_type == 'geq':\n",
    "        sense_var = plp.LpConstraintGE\n",
    "    elif constraint_type == 'eq':\n",
    "        sense_var = plp.LpConstraintEQ\n",
    "    else:\n",
    "        print('Check constraint_type')\n",
    "else:\n",
    "    print('Check opt_model_type')"
   ]
  },
  {
   "cell_type": "markdown",
   "id": "1a488c6f",
   "metadata": {},
   "source": [
    "### Set up the system we wish to solve \n",
    "1. x_vars: Decision variables - what you're trying to solve for\n",
    "2. Constraints: these consist of the LHS, RHS, and sense (leq, geq, eq)\n",
    "3. Define Objective: what you're tring to maximize or minimize"
   ]
  },
  {
   "cell_type": "code",
   "execution_count": 7,
   "id": "a4817593",
   "metadata": {},
   "outputs": [],
   "source": [
    "if x_vars_type != \"Binary\":\n",
    "    if opt_model_type == \"GRB\":\n",
    "        x_vars = {(i,j): opt_model.addVar(vtype =var_type,\n",
    "                                          lb=lower_bound[i,j],\n",
    "                                          ub=upper_bound[i,j],\n",
    "                                          name=name_format.format(i,j))\n",
    "                  for i in set_I for j in set_J}\n",
    "        constraints = {j: constraint_var(lhs=sum_var(a[i,j]*x_vars[i,j] for i in set_I),\n",
    "                                            sense=sense_var,\n",
    "                                            rhs=b[j],\n",
    "                                            name=constraint_name.format(j))\n",
    "                      for j in set_J}\n",
    "        objective = sum_var(x_vars[i,j]*c[i,j] for i in set_I for j in set_J)\n",
    "    elif opt_model_type == \"CPX\":\n",
    "        x_vars = {(i,j): var_type(lb=lower_bound[i,j],\n",
    "                                  ub=upper_bound[i,j],\n",
    "                                  name=name_format.format(i,j))\n",
    "            for i in set_I for j in set_J}\n",
    "        constraints = {j: constraint_var(ct=sense_var(sum_var(a[i,j]*x_vars[i,j] for i in set_I),b[j]),\n",
    "                                        ctname=constraint_name.format(j))\n",
    "                      for j in set_J}\n",
    "        objective = sum_var(x_vars[i,j]*c[i,j] for i in set_I for j in set_J)\n",
    "    elif opt_model_type == \"PLP\":\n",
    "        x_vars = {(i,j): plp.LpVariable(cat=var_type,\n",
    "                                 lowBound=lower_bound[i,j],\n",
    "                                 upBound=upper_bound[i,j],\n",
    "                                 name=name_format.format(i,j))\n",
    "                 for i in set_I for j in set_J}\n",
    "        constraints = {j: constraint_var(plp.LpConstraint(e=sum_var(a[i,j]*x_vars[i,j] for i in set_I),\n",
    "                                                   sense = sense_var,\n",
    "                                                   rhs = b[j],\n",
    "                                                   name=constraint_name.format(j)))\n",
    "                      for j in set_J}\n",
    "        objective = sum_var(x_vars[i,j]*c[i,j] for i in set_I for j in set_J)\n",
    "    else:\n",
    "        print('Incorrent opt_model_type')\n",
    "else:\n",
    "    if opt_model_type == \"GRB\":\n",
    "        x_vars = {(i,j): opt_model.addVar(vtype =var_type,\n",
    "                                          name=name_format.format(i,j))\n",
    "                  for i in set_I for j in set_J}\n",
    "        constraints = {j: constraint_var(lhs=sum_var(a[i,j]*x_vars[i,j] for i in set_I),\n",
    "                                            sense=sense_var,\n",
    "                                            rhs=b[j],\n",
    "                                            name=constraint_name.format(j))\n",
    "                      for j in set_J}\n",
    "        objective = sum_var(x_vars[i,j]*c[i,j] for i in set_I for j in set_J)\n",
    "    elif opt_model_type == \"CPX\":\n",
    "        x_vars = {(i,j): var_type(name=name_format.format(i,j))\n",
    "            for i in set_I for j in set_J}\n",
    "        constraints = {j: constraint_var(ct=sense_var(sum_var(a[i,j]*x_vars[i,j] for i in set_I),b[j]),\n",
    "                                        ctname=constraint_name.format(j))\n",
    "                      for j in set_J}\n",
    "        objective = sum_var(x_vars[i,j]*c[i,j] for i in set_I for j in set_J)\n",
    "    elif opt_model_type == \"PLP\":\n",
    "        x_vars = {(i,j): plp.LpVariable(cat=var_type, name=name_format.format(i,j))\n",
    "                 for i in set_I for j in set_J}\n",
    "        constraints = {j: constraint_var(plp.LpConstraint(e=sum_var(a[i,j]*x_vars[i,j] for i in set_I),\n",
    "                                                   sense = sense_var,\n",
    "                                                   rhs = b[j],\n",
    "                                                   name=constraint_name.format(j)))\n",
    "                      for j in set_J}\n",
    "        objective = sum_var(x_vars[i,j]*c[i,j] for i in set_I for j in set_J)\n",
    "    else:\n",
    "        print('Incorrent opt_model_type')"
   ]
  },
  {
   "cell_type": "markdown",
   "id": "1f5e0108",
   "metadata": {},
   "source": [
    "### Add min/max condition"
   ]
  },
  {
   "cell_type": "code",
   "execution_count": 8,
   "id": "3a2983a8",
   "metadata": {},
   "outputs": [],
   "source": [
    "if objective_type == 'max':\n",
    "    if opt_model_type == \"GRB\":\n",
    "        opt_model.ModelSense = grb.GRB.MAXIMIZE\n",
    "        opt_model.setObjective(objective) #defined in preivous cell\n",
    "    elif opt_model_type == \"CPX\":\n",
    "        opt_model.maximize(objective)\n",
    "    elif opt_model_type == \"PLP\":\n",
    "        opt_model.sense=plp.LpMaximize\n",
    "        opt_model.setObjective(objective) #defined in preivous cell\n",
    "elif objective_type == 'min':\n",
    "    if opt_model_type == \"GRB\":\n",
    "        opt_model.ModelSense = grb.GRB.MINIMIZE\n",
    "        opt_model.setObjective(objective) #defined in preivous cell\n",
    "    elif opt_model_type == \"CPX\":\n",
    "        opt_model.maximize(objective)\n",
    "    elif opt_model_type == \"PLP\":\n",
    "        opt_model.sense=plp.LpMinimize\n",
    "        opt_model.setObjective(objective) #defined in preivous cell\n",
    "else:\n",
    "    pint('Check objective_type')\n",
    "\n"
   ]
  },
  {
   "cell_type": "markdown",
   "id": "d8b8f296",
   "metadata": {},
   "source": [
    "### Solve the model"
   ]
  },
  {
   "cell_type": "code",
   "execution_count": 9,
   "id": "872c2ef1",
   "metadata": {},
   "outputs": [],
   "source": [
    "if opt_model_type == \"GRB\":\n",
    "        opt_model.optimize()\n",
    "elif opt_model_type == \"CPX\":\n",
    "        opt_model.solve()\n",
    "        #opt_model.solve(url=\"your cplex cloud url\", key = \"your api key\") #cloud cplex solver\n",
    "elif opt_model_type == \"PLP\":\n",
    "        opt_model.solve()\n",
    "        #opt_model.solve(solver = GLPK_CMD()) #solve using Glpk\n",
    "else:\n",
    "    print('check opt_model_type')\n",
    "#for v in opt_model.variables():\n",
    " #   if v.varValue>0:\n",
    "  #      print(v.name, \"=\", v.varValue)\n"
   ]
  },
  {
   "cell_type": "markdown",
   "id": "9182997a",
   "metadata": {},
   "source": [
    "### Post-Process the results"
   ]
  },
  {
   "cell_type": "code",
   "execution_count": 10,
   "id": "016c5b74",
   "metadata": {},
   "outputs": [],
   "source": [
    "opt_df = pd.DataFrame.from_dict(x_vars, orient=\"index\", columns =[\"variable_object\"]) # PANDAS dataframe that holds hte optimal values for each decision variable\n",
    "\n",
    "opt_df.index = pd.MultiIndex.from_tuples(opt_df.index,names=[\"column_i\", \"column_j\"])\n",
    "opt_df.reset_index(inplace=True)\n",
    "if opt_model_type == \"GRB\":\n",
    "    opt_df[\"variable_object\"].apply(lambda item: item.X)\n",
    "elif opt_model_type == \"CPX\":\n",
    "    opt_df[\"variable_object\"].apply(lambda item: item.solution_value)\n",
    "elif opt_model_type == \"PLP\":\n",
    "    opt_df[\"variable_object\"].apply(lambda item: item.varValue)\n",
    "else:\n",
    "    print(\"check opt_model_type\")\n",
    "\n",
    "#opt_df.drop(columns=[\"variable_object\"], inplace=True)\n",
    "opt_df.to_csv(\"./optimization_solution.csv\")"
   ]
  },
  {
   "cell_type": "code",
   "execution_count": 11,
   "id": "0c78f93c",
   "metadata": {},
   "outputs": [
    {
     "name": "stdout",
     "output_type": "stream",
     "text": [
      "objective: 110.167\n",
      "  x_1_1=1.360\n",
      "  x_2_1=0.180\n"
     ]
    }
   ],
   "source": [
    "#for plp\n",
    "# for v in opt_model.variables():\n",
    "#     if v.varValue>0:\n",
    "#         print(v.name, \"=\", v.varValue)\n",
    "# for v in opt_model.variables():\n",
    "#         try: \n",
    "#             print(v.name, \"=\", v.value())\n",
    "#         except: \n",
    "#             print(\"error couldn't find value\")\n",
    "\n",
    "#For CPLEX\n",
    "opt_model.print_solution()"
   ]
  },
  {
   "cell_type": "code",
   "execution_count": 12,
   "id": "8c678c55",
   "metadata": {},
   "outputs": [
    {
     "name": "stdout",
     "output_type": "stream",
     "text": [
      "89.294x_1_1-62.630x_2_1\n"
     ]
    }
   ],
   "source": [
    "#print(constraints)\n",
    "print(objective)"
   ]
  }
 ],
 "metadata": {
  "kernelspec": {
   "display_name": "Python 3 (ipykernel)",
   "language": "python",
   "name": "python3"
  },
  "language_info": {
   "codemirror_mode": {
    "name": "ipython",
    "version": 3
   },
   "file_extension": ".py",
   "mimetype": "text/x-python",
   "name": "python",
   "nbconvert_exporter": "python",
   "pygments_lexer": "ipython3",
   "version": "3.9.7"
  }
 },
 "nbformat": 4,
 "nbformat_minor": 5
}
