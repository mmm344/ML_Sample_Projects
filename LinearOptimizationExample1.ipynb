{
 "cells": [
  {
   "cell_type": "markdown",
   "id": "1d5e9521",
   "metadata": {},
   "source": [
    "Minimize: \n",
    "    \\begin{align*}\n",
    "    -2x_1-3x_2-4x_3\n",
    "    \\end{align*}\n",
    "Subject to:\n",
    "    \\begin{align*}\n",
    "    3x_1+2x_2+x_3 & =10\\\\\n",
    "    2x_1+5x_2+3x_3&=15\\\\\n",
    "    x_i&\\geq 0,\\ \\ \\forall i=1,2,3\n",
    "    \\end{align*}\n",
    "The exact solution (using a simplicial method) is $-\\frac{130}{7}$."
   ]
  },
  {
   "cell_type": "code",
   "execution_count": 1,
   "id": "74d6722b",
   "metadata": {},
   "outputs": [
    {
     "name": "stdout",
     "output_type": "stream",
     "text": [
      "Model: Three variable\n",
      " - number of variables: 3\n",
      "   - binary=0, integer=0, continuous=3\n",
      " - number of constraints: 2\n",
      "   - linear=2\n",
      " - parameters: defaults\n",
      " - objective: minimize\n",
      " - problem type is: LP\n",
      "objective: -18.571\n",
      "  x_1=2.143\n",
      "  x_3=3.571\n"
     ]
    }
   ],
   "source": [
    "#Using CPLEX\n",
    "from docplex.mp.model import Model\n",
    "m = Model(name='Three variables')\n",
    "x_1 = m.continuous_var(name=\"x_1\", lb=0)\n",
    "x_2 = m.continuous_var(name=\"x_2\", lb=0)\n",
    "x_3 = m.continuous_var(name=\"x_3\", lb=0)\n",
    "c1=m.add_constraint(3*x_1+2*x_2+x_3==10, ctname=\"c_1\")\n",
    "c2=m.add_constraint(2*x_1+5*x_2+3*x_3==15, ctname=\"c_2\")\n",
    "m.set_objective(\"min\",-2*x_1-3*x_2-4*x_3)\n",
    "m.print_information()\n",
    "m.solve()\n",
    "m.print_solution()"
   ]
  },
  {
   "cell_type": "code",
   "execution_count": 51,
   "id": "c6cd6173",
   "metadata": {},
   "outputs": [
    {
     "name": "stdout",
     "output_type": "stream",
     "text": [
      "Status: Optimal \n",
      "\n",
      "All Variables:\n",
      "x_1 = 2.1428571\n",
      "x_2 = 0.0\n",
      "x_3 = 3.5714286\n",
      "objective: -18.5714286\n"
     ]
    }
   ],
   "source": [
    "#Using PuLP\n",
    "import pulp as plp\n",
    "from pulp import *\n",
    "opt_model=plp.LpProblem(name=\"MIP Model\")\n",
    "x_1 = plp.LpVariable(cat=plp.LpContinuous,lowBound=0, name=\"x_1\")\n",
    "x_2 = plp.LpVariable(cat=plp.LpContinuous,lowBound=0, name=\"x_2\")\n",
    "x_3 = plp.LpVariable(cat=plp.LpContinuous,lowBound=0, name=\"x_3\")\n",
    "c_1 =opt_model.addConstraint(plp.LpConstraint(e=3*x_1+2*x_2+x_3,\n",
    "                                                   rhs = 10,\n",
    "                                                   name = \"c_1\"))\n",
    "c_2=opt_model.addConstraint(plp.LpConstraint(e=2*x_1+5*x_2+3*x_3,\n",
    "                                                   rhs = 15,\n",
    "                                                   name = \"c_2\"))\n",
    "opt_model.sense=plp.LpMinimize\n",
    "opt_model.setObjective(-2*x_1-3*x_2-4*x_3)\n",
    "opt_model.solve()\n",
    "print(\"Status:\", LpStatus[opt_model.status], \"\\n\")\n",
    "\n",
    "print(\"All Variables:\")\n",
    "for v in opt_model.variables():\n",
    "    print(v.name, \"=\", v.varValue)\n",
    "    \n",
    "print(\"objective:\", opt_model.objective.value())"
   ]
  }
 ],
 "metadata": {
  "kernelspec": {
   "display_name": "Python 3 (ipykernel)",
   "language": "python",
   "name": "python3"
  },
  "language_info": {
   "codemirror_mode": {
    "name": "ipython",
    "version": 3
   },
   "file_extension": ".py",
   "mimetype": "text/x-python",
   "name": "python",
   "nbconvert_exporter": "python",
   "pygments_lexer": "ipython3",
   "version": "3.9.7"
  }
 },
 "nbformat": 4,
 "nbformat_minor": 5
}
